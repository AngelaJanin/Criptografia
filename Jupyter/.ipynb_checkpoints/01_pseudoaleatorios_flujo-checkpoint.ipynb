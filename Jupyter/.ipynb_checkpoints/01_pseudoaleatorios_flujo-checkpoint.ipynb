{
 "cells": [
  {
   "cell_type": "markdown",
   "metadata": {},
   "source": [
    "# Números pseudoaleatorios y cifrado de flujo"
   ]
  },
  {
   "cell_type": "code",
   "execution_count": 1,
   "metadata": {},
   "outputs": [
    {
     "data": {
      "text/html": [
       "\n",
       "        <iframe\n",
       "            width=\"640\"\n",
       "            height=\"360\"\n",
       "            src=\"https://drive.google.com/file/d/1edLyTBnPYB7ZkfTq3Cmvmf-ZTJwcFjqj/preview\"\n",
       "            frameborder=\"0\"\n",
       "            allowfullscreen\n",
       "        ></iframe>\n",
       "        "
      ],
      "text/plain": [
       "<IPython.lib.display.IFrame at 0x7f49b04ad510>"
      ]
     },
     "execution_count": 1,
     "metadata": {},
     "output_type": "execute_result"
    }
   ],
   "source": [
    "from IPython.display import IFrame\n",
    "IFrame(src=\"https://drive.google.com/file/d/1edLyTBnPYB7ZkfTq3Cmvmf-ZTJwcFjqj/preview\", width=640, height=360)"
   ]
  },
  {
   "cell_type": "markdown",
   "metadata": {},
   "source": [
    "## RC4\n",
    "\n",
    "El algoritmo RC4 consta de dos etapas:\n",
    "\n",
    "1. Inicialización o Key-scheduling algorithm, donde se usa la llave o semilla para inicializar el estado;\n",
    "2. Generación de bytes, donde se generan tantos bytes como se requieran.\n",
    "\n",
    "En https://en.wikipedia.org/wiki/RC4#Description puede verse la descripción del algoritmo; también puede verse otra explicación en el video https://www.youtube.com/watch?v=G3HajuqYH2U.\n",
    "\n",
    "El siguiente código es una implementación de RC4 como cifrador de flujo, es decir, la función recibe el mensaje claro `data` y la llave `key`, ambos del tipo `bytes`, y se devuelve el XOR de `data` y los bytes pseudoaleatorios generados por RC4 con la llave `key`."
   ]
  },
  {
   "cell_type": "code",
   "execution_count": 2,
   "metadata": {},
   "outputs": [
    {
     "name": "stdout",
     "output_type": "stream",
     "text": [
      "bbf316e8d940af0ad3\n"
     ]
    }
   ],
   "source": [
    "# Para Python 3.x\n",
    "def rc4_encrypt(key, data):\n",
    "    # Inicialización\n",
    "    x = 0\n",
    "    box = list(range(256))\n",
    "    for i in range(256):\n",
    "        x = (x + box[i] + key[i % len(key)]) % 256\n",
    "        box[i], box[x] = box[x], box[i]\n",
    "        \n",
    "    # Generación de bytes pseudoaleatorios y cifrado\n",
    "    x = 0\n",
    "    y = 0\n",
    "    out = []\n",
    "    for byte in data:\n",
    "        x = (x + 1) % 256\n",
    "        y = (y + box[x]) % 256\n",
    "        box[x], box[y] = box[y], box[x]\n",
    "        out.append(byte ^ box[(box[x] + box[y]) % 256])\n",
    "    return bytes(out)\n",
    "\n",
    "print(rc4_encrypt(b'Key', b'Plaintext').hex()) # Primer ejemplo de la página de Wikipedia"
   ]
  },
  {
   "cell_type": "markdown",
   "metadata": {},
   "source": [
    "### Preguntas\n",
    "1. Prueba los otros ejemplos que aparecen en la página de Wikipedia, verificando que coincide el texto cifrado.\n",
    "2. ¿Cómo sería la función de descifrado? Prueba tu respuesta descifrando la cadena de 9 bytes `bbf316e8d940af0ad3` con la llave `Key`.\n",
    "3. En los ejemplos de Wikipedia aparece la cadena de bytes pseudoaleatorios generada (keystream), ¿qué cadena `data` tendrías que pasarle a `rc4_encrypt` para que devuelva la cadena de bytes pseudoaleatorios (keystream)?\n",
    "\n",
    "Como se puede ver en la página de Wikipedia, existen varios ataques a RC4, por lo que actualmente no se recomienda usarlo para fines criptográficos. De hecho antes se usaba RC4 como parte del generador de números aleatorios de Linux, y actualmente ha sido reemplazado por el algoritmo ChaCha."
   ]
  }
 ],
 "metadata": {
  "kernelspec": {
   "display_name": "Python 3",
   "language": "python",
   "name": "python3"
  },
  "language_info": {
   "codemirror_mode": {
    "name": "ipython",
    "version": 3
   },
   "file_extension": ".py",
   "mimetype": "text/x-python",
   "name": "python",
   "nbconvert_exporter": "python",
   "pygments_lexer": "ipython3",
   "version": "3.7.3"
  }
 },
 "nbformat": 4,
 "nbformat_minor": 4
}
